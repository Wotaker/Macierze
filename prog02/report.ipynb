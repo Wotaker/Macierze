{
 "cells": [
  {
   "attachments": {},
   "cell_type": "markdown",
   "metadata": {},
   "source": [
    "# Rekurencyjne Odwracanie Mcierzy"
   ]
  },
  {
   "attachments": {},
   "cell_type": "markdown",
   "metadata": {},
   "source": [
    "## Analiza algorytmu"
   ]
  },
  {
   "attachments": {},
   "cell_type": "markdown",
   "metadata": {},
   "source": [
    "### Pseudokod rekurencyjnego algorytmu odwracania macierzy\n",
    "\n",
    "```python\n",
    "def inverse(A: Matrix) -> Matrix:\n",
    "\n",
    "    n = size(A)     # rozmiar macierzy A\n",
    "\n",
    "    # Warunek brzegowy - trywialna odwrotnoś\n",
    "    if n == 1:\n",
    "        return 1 / A\n",
    "\n",
    "    # Podział macierzy A na bloki o jednakowym rozmiarze\n",
    "    [A11 A12]\n",
    "    [A21 A22] = A\n",
    "\n",
    "    # Zmienne pomocnicze\n",
    "    A11_inv = inverse(A11)\n",
    "    S22 = A22 - A21 * A11_inv * A12\n",
    "    S22_inv = inverse(S22)\n",
    "\n",
    "    # Oblicznie bloków składających się na macierz wynikową B\n",
    "    B11 = A11_inv + A11_inv * A12 * S22_inv * A21 * A11_inv\n",
    "    B12 = -A11_inv * A12 * S22_inv\n",
    "    B21 = -S22_inv * A21 * A11_inv\n",
    "    B22 = S22_inv\n",
    "\n",
    "    # Składanie obliczonych bloków w wynikową macierz B\n",
    "    B = [B11, B12]\n",
    "        [B21, B22]\n",
    "\n",
    "    return B\n",
    "```"
   ]
  },
  {
   "attachments": {},
   "cell_type": "markdown",
   "metadata": {},
   "source": [
    "### Pseudokod algorytmu rekurencyjnego mnożenia macierzy\n",
    "```python\n",
    "def multiply_strassen_with_classic(A: Matrix, B: Matrix, l: int = 6) -> Matrix:\n",
    "\n",
    "    def strassen(A: Matrix, B: Matrix, n: int):\n",
    "\n",
    "        # Warunek brzegowy - trywialne mnożenie\n",
    "        if n == 1:\n",
    "            return A * B\n",
    "\n",
    "        # Warunek brzegowy - rozmiar macierzy suboptymalny aby wywoływać rekurencyjnie\n",
    "        elif n <= l:\n",
    "            return multiply_classic(A, B)\n",
    "        \n",
    "        # Podział macierzy A na bloki o jednakowym rozmiarze\n",
    "        [A11 A12]\n",
    "        [A21 A22] = A\n",
    "\n",
    "        # Podział macierzy B na bloki o jednakowym rozmiarze\n",
    "        [B11 B12]\n",
    "        [B21 B22] = B\n",
    "\n",
    "        # Wywołania rekurencyjne aby wyliczy macierze pomocnicze P_i, i z {1, 2, ..., 7}\n",
    "        P1 = strassen(A11 + A22, B11 + B22, n // 2)\n",
    "        P2 = strassen(A21 + A22, B11, n // 2)\n",
    "        P3 = strassen(A11, B12 - B22, n // 2)\n",
    "        P4 = strassen(A22, B21 - B11, n // 2)\n",
    "        P5 = strassen(A11 + A12, B22, n // 2)\n",
    "        P6 = strassen(A21 - A11, B11 + B12, n // 2)\n",
    "        P7 = strassen(A12 - A22, B21 + B22, n // 2)\n",
    "\n",
    "        # Składanie macierzy wynikowej C z bloków powstałych z P_i\n",
    "        C11 = P1 + P4 - P5 + P7\n",
    "        C12 = P3 + P5\n",
    "        C21 = P2 + P4\n",
    "        C22 = P1 - P2 + P3 + P6\n",
    "\n",
    "        C = [C11, C12]\n",
    "            [C21, C22]\n",
    "\n",
    "        return C\n",
    "    \n",
    "    return strassen(A, B, size(A))\n",
    "```"
   ]
  },
  {
   "attachments": {},
   "cell_type": "markdown",
   "metadata": {},
   "source": [
    "### FLO: liczba operacji zmiennoprzecinkowych w algorytmie"
   ]
  },
  {
   "cell_type": "code",
   "execution_count": 1,
   "metadata": {},
   "outputs": [],
   "source": [
    "# Funkcja anonimowa obliczająca liczbę operacji dla k\n",
    "flo = lambda k: pow(2, k) + sum([pow(2, k - i) * (46 * pow(7, i - 1) + pow(4, i - 1) - 36 * pow(2, i - 1) + 1) for i in range(2, k + 1)])"
   ]
  },
  {
   "attachments": {},
   "cell_type": "markdown",
   "metadata": {},
   "source": [
    "## Eksperymenty"
   ]
  },
  {
   "cell_type": "code",
   "execution_count": 4,
   "metadata": {},
   "outputs": [],
   "source": [
    "from inverse import inverse\n",
    "from utils import *\n",
    "from timeit import default_timer as timer\n",
    "\n",
    "SEED = 42\n",
    "MATRICES_FILE_PATH = \"matrices.dat\""
   ]
  },
  {
   "cell_type": "code",
   "execution_count": 6,
   "metadata": {},
   "outputs": [
    {
     "name": "stdout",
     "output_type": "stream",
     "text": [
      "Generated 2x2 matrix!\n",
      "Generated 4x4 matrix!\n",
      "Generated 8x8 matrix!\n",
      "Generated 16x16 matrix!\n",
      "Generated 32x32 matrix!\n",
      "Generated 64x64 matrix!\n",
      "Keep searching...\n",
      "Generated 128x128 matrix!\n",
      "Keep searching...\n",
      "Generated 256x256 matrix!\n",
      "Keep searching...\n"
     ]
    }
   ],
   "source": [
    "np.random.seed(SEED)\n",
    "\n",
    "matrices = [generate_invertible_matrix(2 ** k, 'I') for k in range(1, 9 + 1)]\n",
    "save(MATRICES_FILE_PATH, matrices)"
   ]
  },
  {
   "cell_type": "code",
   "execution_count": null,
   "metadata": {},
   "outputs": [],
   "source": [
    "start = timer()\n",
    "\n",
    "\n",
    "\n",
    "end = timer()\n",
    "print(end - start)"
   ]
  },
  {
   "attachments": {},
   "cell_type": "markdown",
   "metadata": {},
   "source": [
    "### Czas wykonania"
   ]
  },
  {
   "cell_type": "code",
   "execution_count": null,
   "metadata": {},
   "outputs": [],
   "source": []
  },
  {
   "attachments": {},
   "cell_type": "markdown",
   "metadata": {},
   "source": [
    "### Liczba operacji"
   ]
  },
  {
   "cell_type": "code",
   "execution_count": null,
   "metadata": {},
   "outputs": [],
   "source": []
  }
 ],
 "metadata": {
  "kernelspec": {
   "display_name": "Wizualizacje",
   "language": "python",
   "name": "python3"
  },
  "language_info": {
   "codemirror_mode": {
    "name": "ipython",
    "version": 3
   },
   "file_extension": ".py",
   "mimetype": "text/x-python",
   "name": "python",
   "nbconvert_exporter": "python",
   "pygments_lexer": "ipython3",
   "version": "3.10.4"
  },
  "orig_nbformat": 4
 },
 "nbformat": 4,
 "nbformat_minor": 2
}
