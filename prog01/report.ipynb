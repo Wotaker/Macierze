{
 "cells": [
  {
   "cell_type": "markdown",
   "metadata": {},
   "source": [
    "# Mnożenie macierzy"
   ]
  },
  {
   "cell_type": "markdown",
   "metadata": {},
   "source": [
    "## Algorytm klasyczny"
   ]
  },
  {
   "cell_type": "markdown",
   "metadata": {},
   "source": [
    "Algorytm klasyczny polega na przejściu w pętlach po macierzach w celu wymnożenia i dodania odpowiednich liczb."
   ]
  },
  {
   "cell_type": "code",
   "execution_count": 158,
   "metadata": {},
   "outputs": [],
   "source": [
    "def multiply_classic(A: Matrix, B: Matrix):\n",
    "    \"\"\"\n",
    "    Multiplies `A` times `B` with a classic algorithm, where \n",
    "    `A` is an `m x n` matrix and `B` is an `n x l` matrix.\n",
    "    \"\"\"\n",
    "\n",
    "    m, n, l = A.shape[0], A.shape[1], B.shape[1]\n",
    "    multiply = np.empty((m, l))\n",
    "    sum = 0\n",
    "    for i in range(m):                      # rows in multiply\n",
    "        for j in range(l):                  # columns in multiply\n",
    "            for k in range(n):              # columns in A and rows in B\n",
    "                sum += A[i, k] * B[k, j]\n",
    "            multiply[i, j] = sum\n",
    "            sum = 0\n",
    "\n",
    "    return multiply"
   ]
  },
  {
   "cell_type": "markdown",
   "metadata": {},
   "source": [
    "Obliczenie liczby operacji zmiennoprzecinkowych. W dolnym indeksie zapisano typ działania: `add` - dodawanie, `mul` - mnożenie.\n",
    "\n",
    "Wejście: $A$ - $m$ x $n$, $B$ - $n$ x $l$  \n",
    "$FLO_{classic}(m, n, l) =$  \n",
    "$= \\sum_{i=0}^m \\sum_{j=0}^l \\sum_{k=0}^n (1_{add} + 1_{mul}) =$  \n",
    "$= 1_{add}mnl + 1_{mul}mnl =$  \n",
    "$= 2mnl$  \n",
    "W szczególności dla macierzy kwadratowych $n$ x $n$ gdzie $n = 2^k$:  \n",
    "$FLO_{classic}(k) =$  \n",
    "$= 1_{add}n^3 + 1_{mul}n^3 =$  \n",
    "$= 1_{add}8^k + 1_{mul}8^k =$  \n",
    "$= 2 * 8^k$  "
   ]
  },
  {
   "cell_type": "markdown",
   "metadata": {},
   "source": [
    "## Algorytm Strassena"
   ]
  },
  {
   "cell_type": "markdown",
   "metadata": {},
   "source": [
    "Algorytm Strassena działa rekurencyjnie, dzieli macierz kwadratową na 4 podmacierze o równym rozmiarze. Na tych macierzach zostają wykonane pewne operacje, włącznie z wywołaniem rekurencyjnym mnożenia. Wyniki tych działań podlegają konkatenacji z powrotem do macierzy w rozmiarze wejściowym."
   ]
  },
  {
   "cell_type": "code",
   "execution_count": 159,
   "metadata": {},
   "outputs": [],
   "source": [
    "def multiply_strassen(A: Matrix, B: Matrix):\n",
    "    \"\"\"\n",
    "    Multiplies `A` times `B` with a Strassen algorithm, where\n",
    "    both `A` and `B` are square `n x n` matrices.\n",
    "    \"\"\"\n",
    "\n",
    "    def strassen(A: Matrix, B: Matrix, n: int):\n",
    "\n",
    "        if n == 1:\n",
    "            return A * B\n",
    "        \n",
    "        m = n // 2\n",
    "\n",
    "        A11 = A[:m, :m]\n",
    "        A12 = A[:m, m:]\n",
    "        A21 = A[m:, :m]\n",
    "        A22 = A[m:, m:]\n",
    "\n",
    "        B11 = B[:m, :m]\n",
    "        B12 = B[:m, m:]\n",
    "        B21 = B[m:, :m]\n",
    "        B22 = B[m:, m:]\n",
    "\n",
    "        P1 = strassen(A11 + A22, B11 + B22, m)\n",
    "        P2 = strassen(A21 + A22, B11, m)\n",
    "        P3 = strassen(A11, B12 - B22, m)\n",
    "        P4 = strassen(A22, B21 - B11, m)\n",
    "        P5 = strassen(A11 + A12, B22, m)\n",
    "        P6 = strassen(A21 - A11, B11 + B12, m)\n",
    "        P7 = strassen(A12 - A22, B21 + B22, m)\n",
    "\n",
    "        C = np.concatenate((\n",
    "            np.concatenate((P1 + P4 - P5 + P7, P3 + P5), axis=1),\n",
    "            np.concatenate((P2 + P4, P1 - P2 + P3 + P6), axis=1)\n",
    "        ), axis=0)\n",
    "\n",
    "        return C\n",
    "\n",
    "    return strassen(A, B, A.shape[0])\n"
   ]
  },
  {
   "cell_type": "markdown",
   "metadata": {},
   "source": [
    "Obliczenie liczby operacji zmiennoprzecinkowych. Przy zmianie szeregu na wzór skorzystano z narzędzia Wolfram Alpha.\n",
    "\n",
    "Wejście: $A$ - $n$ x $n$, $B$ - $n$ x $n$ and $n = 2^k => k = \\log_2{n}$   \n",
    "$FLO_{Strassen}(1) = 1_{mul}$  \n",
    "$FLO_{Strassen}(2^k) =$   \n",
    "$= (2_{add} * 2^{k-1} + FLO_{Strassen}(2^{k-1})) + (1_{add} * 2^{k-1} + FLO_{Strassen}(2^{k-1})) + (1_{add} * 2^{k-1} + FLO_{Strassen}(2^{k-1})) + (1_{add} * 2^{k-1} + FLO_{Strassen}(2^{k-1})) + (1_{add} * 2^{k-1} + FLO_{Strassen}(2^{k-1})) + (2_{add} * 2^{k-1} + FLO_{Strassen}(2^{k-1})) + (2_{add} * 2^{k-1} + FLO_{Strassen}(2^{k-1})) + 8_{add} * 2^{k-1} =$  \n",
    "$= 18_{add} * 2^{k-1} + 7 * FLO_{Strassen}(2^{k-1}) =$  \n",
    "$= 18_{add} * 2^{k-1} + 7 * (18_{add} * 2^{k-2} + 7 * FLO_{Strassen}(2^{k-2})) =$  \n",
    "$= 7^0 * 18_{add} * 2^{k-1} + 7 * 18_{add} * 2^{k-2} + 7^2 * 18_{add} * 2^{k-3} + 7^3 * 18_{add} * 2^{k-4} + ... + 7^{k-1} * 18_{add} * 2^{k-k} + 7^k * 1_{mul} =$  \n",
    "$= \\sum_{i=0}^{k-1} (7^i * 18_{add} * 2^{k-i-1}) + 7^k * 1_{mul} =$  \n",
    "$= -\\frac{18}{5}(2^k - 7^k) * 1_{add} + 7^k * 1_{mul} =$  \n",
    "$= \\frac{23}{5} * 7^k - \\frac{18}{5} * 2^k =$  \n",
    "$= \\frac{23}{5} 7^{\\log_2{n}} - \\frac{18}{5} n$"
   ]
  },
  {
   "cell_type": "markdown",
   "metadata": {},
   "source": [
    "Warto porównać liczbę mnożeń z klasycznym algorytmen. W algorytmie Strassena mamy $7^k$ operacji mnożenia, natomiast w klasycznym będzie to $8^k$. Widać, że algorytm Strassena ma znacznie mniej mnożeń, które są najbardziej kosztowne dla komputera."
   ]
  },
  {
   "cell_type": "markdown",
   "metadata": {},
   "source": [
    "## Połączone mnożenie za pomocą algorytmu Strassena i klasycznego."
   ]
  },
  {
   "cell_type": "markdown",
   "metadata": {},
   "source": [
    "Algorytm do mnożenia wykorzystuje algorytm Strassena, jeśli macierz ma rozmiar (jeden z wymiarów) większy od zadanego parametru `size_classic`. W sczcególności gdy macierz w wywołaniu rekurencyjnym jest mniejsza niż ten parametr wykonujemy klasyczne mnożenie, zamiast kolejnego mnożenia algorytmem Strassena."
   ]
  },
  {
   "cell_type": "code",
   "execution_count": 163,
   "metadata": {},
   "outputs": [],
   "source": [
    "def multiply_strassen_with_classic(A: Matrix, B: Matrix, size_classic: int = 1):\n",
    "    \"\"\"\n",
    "    Multiplies `A` times `B` with a Strassen algorithm, where\n",
    "    both `A` and `B` are square `n x n` matrices.\n",
    "    If submatrix size is less or equal than `size_classic` uses `multiply_classic`.\n",
    "    \"\"\"\n",
    "\n",
    "    def strassen(A: Matrix, B: Matrix, n: int):\n",
    "\n",
    "        if n == 1:\n",
    "            return A * B\n",
    "        elif n <= size_classic:\n",
    "            return multiply_classic(A, B)\n",
    "        \n",
    "        m = n // 2\n",
    "\n",
    "        A11 = A[:m, :m]\n",
    "        A12 = A[:m, m:]\n",
    "        A21 = A[m:, :m]\n",
    "        A22 = A[m:, m:]\n",
    "\n",
    "        B11 = B[:m, :m]\n",
    "        B12 = B[:m, m:]\n",
    "        B21 = B[m:, :m]\n",
    "        B22 = B[m:, m:]\n",
    "\n",
    "        P1 = strassen(A11 + A22, B11 + B22, m)\n",
    "        P2 = strassen(A21 + A22, B11, m)\n",
    "        P3 = strassen(A11, B12 - B22, m)\n",
    "        P4 = strassen(A22, B21 - B11, m)\n",
    "        P5 = strassen(A11 + A12, B22, m)\n",
    "        P6 = strassen(A21 - A11, B11 + B12, m)\n",
    "        P7 = strassen(A12 - A22, B21 + B22, m)\n",
    "\n",
    "        C = np.concatenate((\n",
    "            np.concatenate((P1 + P4 - P5 + P7, P3 + P5), axis=1),\n",
    "            np.concatenate((P2 + P4, P1 - P2 + P3 + P6), axis=1)\n",
    "        ), axis=0)\n",
    "\n",
    "        return C\n",
    "    \n",
    "    if A.shape[0] <= size_classic:\n",
    "        return multiply_classic(A, B)\n",
    "\n",
    "    return strassen(A, B, A.shape[0])\n"
   ]
  },
  {
   "cell_type": "markdown",
   "metadata": {},
   "source": [
    "## Testy mmnożeń"
   ]
  },
  {
   "cell_type": "markdown",
   "metadata": {},
   "source": [
    "Podczas testów wykorzystano macierze 4x4. Jako wzorzec przyjęto wynik mnożenia policzony z pomocą biblioteki `numpy`."
   ]
  },
  {
   "cell_type": "code",
   "execution_count": 161,
   "metadata": {},
   "outputs": [
    {
     "name": "stdout",
     "output_type": "stream",
     "text": [
      "=== Testing multiply_classic algorithm ===\n",
      "\n",
      "Matrix A:\n",
      "[[ 1  2  3  4]\n",
      " [ 5  6  7  8]\n",
      " [ 9 10 11 12]\n",
      " [13 14 15 16]]\n",
      "\n",
      "Matrix B:\n",
      "[[17 18 19 20]\n",
      " [21 22 23 24]\n",
      " [25 26 27 28]\n",
      " [29 30 31 32]]\n",
      "\n",
      "Matrix AxB:\n",
      "[[ 250.  260.  270.  280.]\n",
      " [ 618.  644.  670.  696.]\n",
      " [ 986. 1028. 1070. 1112.]\n",
      " [1354. 1412. 1470. 1528.]]\n",
      "\n",
      "Matrix AxB (numpy):\n",
      "[[ 250  260  270  280]\n",
      " [ 618  644  670  696]\n",
      " [ 986 1028 1070 1112]\n",
      " [1354 1412 1470 1528]]\n",
      "\n",
      "Test Passed!\n"
     ]
    }
   ],
   "source": [
    "test_multiplication(multiply_classic)"
   ]
  },
  {
   "cell_type": "code",
   "execution_count": 162,
   "metadata": {},
   "outputs": [
    {
     "name": "stdout",
     "output_type": "stream",
     "text": [
      "=== Testing multiply_strassen algorithm ===\n",
      "\n",
      "Matrix A:\n",
      "[[ 1  2  3  4]\n",
      " [ 5  6  7  8]\n",
      " [ 9 10 11 12]\n",
      " [13 14 15 16]]\n",
      "\n",
      "Matrix B:\n",
      "[[17 18 19 20]\n",
      " [21 22 23 24]\n",
      " [25 26 27 28]\n",
      " [29 30 31 32]]\n",
      "\n",
      "Matrix AxB:\n",
      "[[ 250  260  270  280]\n",
      " [ 618  644  670  696]\n",
      " [ 986 1028 1070 1112]\n",
      " [1354 1412 1470 1528]]\n",
      "\n",
      "Matrix AxB (numpy):\n",
      "[[ 250  260  270  280]\n",
      " [ 618  644  670  696]\n",
      " [ 986 1028 1070 1112]\n",
      " [1354 1412 1470 1528]]\n",
      "\n",
      "Test Passed!\n"
     ]
    }
   ],
   "source": [
    "test_multiplication(multiply_strassen)"
   ]
  },
  {
   "cell_type": "code",
   "execution_count": 164,
   "metadata": {},
   "outputs": [
    {
     "name": "stdout",
     "output_type": "stream",
     "text": [
      "=== Testing multiply_strassen_with_classic algorithm ===\n",
      "\n",
      "Matrix A:\n",
      "[[ 1  2  3  4]\n",
      " [ 5  6  7  8]\n",
      " [ 9 10 11 12]\n",
      " [13 14 15 16]]\n",
      "\n",
      "Matrix B:\n",
      "[[17 18 19 20]\n",
      " [21 22 23 24]\n",
      " [25 26 27 28]\n",
      " [29 30 31 32]]\n",
      "\n",
      "Matrix AxB:\n",
      "[[ 250.  260.  270.  280.]\n",
      " [ 618.  644.  670.  696.]\n",
      " [ 986. 1028. 1070. 1112.]\n",
      " [1354. 1412. 1470. 1528.]]\n",
      "\n",
      "Matrix AxB (numpy):\n",
      "[[ 250  260  270  280]\n",
      " [ 618  644  670  696]\n",
      " [ 986 1028 1070 1112]\n",
      " [1354 1412 1470 1528]]\n",
      "\n",
      "Test Passed!\n"
     ]
    }
   ],
   "source": [
    "test_multiplication(multiply_strassen_with_classic, size_classic=2)"
   ]
  },
  {
   "cell_type": "markdown",
   "metadata": {},
   "source": [
    "## Eksperymenty"
   ]
  },
  {
   "attachments": {},
   "cell_type": "markdown",
   "metadata": {},
   "source": [
    "Zostały przeprowadzone eksperymenty dla różnych wartości k i l. Jeden eksperyment polegał na wygenerowaniu dwóch macierzy o rozmiarze $2^k$ x $2^k$ i wymnożeniu je z parametrem `size_classic` wynoszącym $2^l$. Dla każdego eksperymentu policzono również liczbę operacji zmiennoprzecinkowych. Wyniki zostały zebrane i przedstawione na poniższej grafice. Każdy rząd reprezentuje jedną wartość prametru $l$, natomiast w ostatnim rzędzie zostały przedstawione zbiorcze wykresy dla wszystkich eksperymentów."
   ]
  },
  {
   "attachments": {},
   "cell_type": "markdown",
   "metadata": {},
   "source": [
    "![charts](plots.png)"
   ]
  },
  {
   "cell_type": "markdown",
   "metadata": {},
   "source": [
    "Kształty wykresów są podobne, niezależnie od parametru $l$. Wynika to z faktu, że porównywane algorytmy mają podobną złożoność obliczeniową. Ciekawe wnioski możemy wysnuć oglądając wykresy zbiorcze. Wynika, z nich oczywisty fakt, że czas obliczeń jest skorelowany z liczbą operacji zmiennoprzecinkowych. Możemy również zauważyć, że dla $l$ równego $3$ uzyskujemy najlepszy czas. Oznacza to, że istnieje taki rozmiar macierzy, dla której lepszym znacząco rozwiązaniem jest pomnożenie klasyczne niż wykonanie rekurencyjne. I tak samo opłaca się dla tych większych użyć algorytmu Strassena."
   ]
  }
 ],
 "metadata": {
  "kernelspec": {
   "display_name": "Python 3",
   "language": "python",
   "name": "python3"
  },
  "language_info": {
   "codemirror_mode": {
    "name": "ipython",
    "version": 3
   },
   "file_extension": ".py",
   "mimetype": "text/x-python",
   "name": "python",
   "nbconvert_exporter": "python",
   "pygments_lexer": "ipython3",
   "version": "3.11.2"
  }
 },
 "nbformat": 4,
 "nbformat_minor": 2
}
