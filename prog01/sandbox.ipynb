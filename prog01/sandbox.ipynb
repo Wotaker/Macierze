{
 "cells": [
  {
   "cell_type": "code",
   "execution_count": 108,
   "metadata": {},
   "outputs": [],
   "source": [
    "import numpy as np\n",
    "\n",
    "from typing import Callable\n",
    "from numpy import ndarray as Matrix"
   ]
  },
  {
   "cell_type": "code",
   "execution_count": 109,
   "metadata": {},
   "outputs": [],
   "source": [
    "def multiply_classic(A: Matrix, B: Matrix):\n",
    "    \"\"\"\n",
    "    Multiplies `A` times `B` with a classic algorithm, where \n",
    "    `A` is an `m x n` matrix and `B` is an `n x l` matrix.\n",
    "    \"\"\"\n",
    "\n",
    "    m, n, l = A.shape[0], A.shape[1], B.shape[1]\n",
    "    multiply = np.empty((m, l))\n",
    "    sum = 0\n",
    "    for i in range(m):                      # rows in multiply\n",
    "        for j in range(l):                  # columns in multiply\n",
    "            for k in range(n):              # columns in A and rows in B\n",
    "                sum += A[i, k] * B[k, j]\n",
    "            multiply[i, j] = sum\n",
    "            sum = 0\n",
    "\n",
    "    return multiply"
   ]
  },
  {
   "cell_type": "code",
   "execution_count": 115,
   "metadata": {},
   "outputs": [],
   "source": [
    "def multiply_strassen(A: Matrix, B: Matrix):\n",
    "    \"\"\"\n",
    "    Multiplies `A` times `B` with a Strassen algorithm, where\n",
    "    both `A` and `B` are square `n x n` matrices.\n",
    "    \"\"\"\n",
    "\n",
    "    def strassen(A: Matrix, B: Matrix, n: int):\n",
    "\n",
    "        if n == 1:\n",
    "            return A * B\n",
    "        \n",
    "        m = n // 2\n",
    "\n",
    "        A11 = A[:m, :m]\n",
    "        A12 = A[:m, m:]\n",
    "        A21 = A[m:, :m]\n",
    "        A22 = A[m:, m:]\n",
    "\n",
    "        B11 = B[:m, :m]\n",
    "        B12 = B[:m, m:]\n",
    "        B21 = B[m:, :m]\n",
    "        B22 = B[m:, m:]\n",
    "\n",
    "        P1 = strassen(A11 + A22, B11 + B22, m)\n",
    "        P2 = strassen(A21 + A22, B11, m)\n",
    "        P3 = strassen(A11, B12 - B22, m)\n",
    "        P4 = strassen(A22, B21 - B11, m)\n",
    "        P5 = strassen(A11 + A12, B22, m)\n",
    "        P6 = strassen(A21 - A11, B11 + B12, m)\n",
    "        P7 = strassen(A12 - A22, B21 + B22, m)\n",
    "\n",
    "        C = np.concatenate((\n",
    "            np.concatenate((P1 + P4 - P5 + P7, P3 + P5), axis=1),\n",
    "            np.concatenate((P2 + P4, P1 - P2 + P3 + P6), axis=1)\n",
    "        ), axis=0)\n",
    "\n",
    "        return C\n",
    "\n",
    "    return strassen(A, B, A.shape[0])\n"
   ]
  },
  {
   "cell_type": "code",
   "execution_count": 128,
   "metadata": {},
   "outputs": [],
   "source": [
    "def test_multiplication(multiplication_algorithm: Callable, A: Matrix | None = None, B: Matrix | None = None):\n",
    "\n",
    "    print(f\"=== Testing {multiplication_algorithm.__name__} algorithm ===\")\n",
    "\n",
    "    A = np.reshape(np.arange(1, 4 * 4 + 1), (4, 4)) if not A else A\n",
    "    B = np.reshape(np.arange(17, 4 * 4 + 17), (4, 4)) if not B else B\n",
    "\n",
    "    assert A.shape == B.shape and A.shape[0] == A.shape[1], \"Matrices are not square!\"\n",
    "    assert np.isclose(np.log2(A.shape[0]) % 1, 0), \"Matrices size is not a power of 2!\"\n",
    "    \n",
    "    AB = multiplication_algorithm(A, B)\n",
    "    AB_numpy = A @ B\n",
    "\n",
    "    print(f\"\\nMatrix A:\\n{A}\")\n",
    "    print(f\"\\nMatrix B:\\n{B}\")\n",
    "    print(f\"\\nMatrix AxB:\\n{AB}\")\n",
    "    print(f\"\\nMatrix AxB (numpy):\\n{AB_numpy}\")\n",
    "\n",
    "    assert np.array_equal(AB, AB_numpy), \"Results are inconsistent! Check your algorithm!\"\n",
    "\n",
    "    print(\"\\nTest Passed!\")"
   ]
  },
  {
   "cell_type": "code",
   "execution_count": 129,
   "metadata": {},
   "outputs": [
    {
     "name": "stdout",
     "output_type": "stream",
     "text": [
      "=== Testing multiply_classic algorithm ===\n",
      "\n",
      "Matrix A:\n",
      "[[ 1  2  3  4]\n",
      " [ 5  6  7  8]\n",
      " [ 9 10 11 12]\n",
      " [13 14 15 16]]\n",
      "\n",
      "Matrix B:\n",
      "[[17 18 19 20]\n",
      " [21 22 23 24]\n",
      " [25 26 27 28]\n",
      " [29 30 31 32]]\n",
      "\n",
      "Matrix AxB:\n",
      "[[ 250.  260.  270.  280.]\n",
      " [ 618.  644.  670.  696.]\n",
      " [ 986. 1028. 1070. 1112.]\n",
      " [1354. 1412. 1470. 1528.]]\n",
      "\n",
      "Matrix AxB (numpy):\n",
      "[[ 250  260  270  280]\n",
      " [ 618  644  670  696]\n",
      " [ 986 1028 1070 1112]\n",
      " [1354 1412 1470 1528]]\n",
      "\n",
      "Test Passed!\n"
     ]
    }
   ],
   "source": [
    "test_multiplication(multiply_classic)"
   ]
  },
  {
   "cell_type": "code",
   "execution_count": 130,
   "metadata": {},
   "outputs": [
    {
     "name": "stdout",
     "output_type": "stream",
     "text": [
      "=== Testing multiply_strassen algorithm ===\n",
      "\n",
      "Matrix A:\n",
      "[[ 1  2  3  4]\n",
      " [ 5  6  7  8]\n",
      " [ 9 10 11 12]\n",
      " [13 14 15 16]]\n",
      "\n",
      "Matrix B:\n",
      "[[17 18 19 20]\n",
      " [21 22 23 24]\n",
      " [25 26 27 28]\n",
      " [29 30 31 32]]\n",
      "\n",
      "Matrix AxB:\n",
      "[[ 250  260  270  280]\n",
      " [ 618  644  670  696]\n",
      " [ 986 1028 1070 1112]\n",
      " [1354 1412 1470 1528]]\n",
      "\n",
      "Matrix AxB (numpy):\n",
      "[[ 250  260  270  280]\n",
      " [ 618  644  670  696]\n",
      " [ 986 1028 1070 1112]\n",
      " [1354 1412 1470 1528]]\n",
      "\n",
      "Test Passed!\n"
     ]
    }
   ],
   "source": [
    "test_multiplication(multiply_strassen)"
   ]
  },
  {
   "cell_type": "code",
   "execution_count": null,
   "metadata": {},
   "outputs": [],
   "source": []
  }
 ],
 "metadata": {
  "kernelspec": {
   "display_name": "Python 3",
   "language": "python",
   "name": "python3"
  },
  "language_info": {
   "codemirror_mode": {
    "name": "ipython",
    "version": 3
   },
   "file_extension": ".py",
   "mimetype": "text/x-python",
   "name": "python",
   "nbconvert_exporter": "python",
   "pygments_lexer": "ipython3",
   "version": "3.10.4"
  },
  "orig_nbformat": 4
 },
 "nbformat": 4,
 "nbformat_minor": 2
}
