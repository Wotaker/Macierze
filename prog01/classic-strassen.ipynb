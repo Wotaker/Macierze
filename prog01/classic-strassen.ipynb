{
 "cells": [
  {
   "cell_type": "code",
   "execution_count": 37,
   "metadata": {},
   "outputs": [],
   "source": [
    "import numpy as np\n",
    "import matplotlib.pyplot as plt\n",
    "\n",
    "from typing import Callable\n",
    "from numpy import ndarray as Matrix"
   ]
  },
  {
   "cell_type": "code",
   "execution_count": 50,
   "metadata": {},
   "outputs": [],
   "source": [
    "def multiply_classic(A: Matrix, B: Matrix):\n",
    "    \"\"\"\n",
    "    Multiplies `A` times `B` with a classic algorithm, where \n",
    "    `A` is an `m x n` matrix and `B` is an `n x l` matrix\n",
    "    \"\"\"\n",
    "\n",
    "    m, n, l = A.shape[0], A.shape[1], B.shape[1]\n",
    "    multiply = np.empty((m, l))\n",
    "    sum = 0\n",
    "    for i in range(m):                      # rows in multiply\n",
    "        for j in range(l):                  # columns in multiply\n",
    "            for k in range(n):              # columns in A and rows in B\n",
    "                sum += A[i, k] * B[k, j]\n",
    "            multiply[i, j] = sum\n",
    "            sum = 0\n",
    "\n",
    "    return multiply"
   ]
  },
  {
   "cell_type": "code",
   "execution_count": null,
   "metadata": {},
   "outputs": [],
   "source": [
    "def multiply_strassen(A: Matrix, B: Matrix):\n",
    "    pass"
   ]
  },
  {
   "cell_type": "code",
   "execution_count": 51,
   "metadata": {},
   "outputs": [],
   "source": [
    "def test_multiplication(multiplication_algorithm: Callable, A: Matrix | None = None, B: Matrix | None = None):\n",
    "\n",
    "    A = np.reshape(np.arange(1, 4 * 3 + 1), (4, 3)) if not A else A\n",
    "    B = np.reshape(np.arange(1, 3 * 5 + 1), (3, 5)) if not B else B\n",
    "    AB = multiplication_algorithm(A, B)\n",
    "    AB_numpy = A @ B\n",
    "\n",
    "    print(f\"Matrix A:\\n{A}\")\n",
    "    print(f\"\\nMatrix B:\\n{B}\")\n",
    "    print(f\"\\nMatrix AxB:\\n{AB}\")\n",
    "    print(f\"\\nMatrix AxB (numpy):\\n{AB_numpy}\")\n",
    "\n",
    "    assert np.array_equal(AB, AB_numpy), \"Results are inconsistent! Check your algorithm!\"\n",
    "\n",
    "    print(\"\\nTest Passed!\")"
   ]
  },
  {
   "cell_type": "code",
   "execution_count": 52,
   "metadata": {},
   "outputs": [
    {
     "name": "stdout",
     "output_type": "stream",
     "text": [
      "Matrix A:\n",
      "[[ 1  2  3]\n",
      " [ 4  5  6]\n",
      " [ 7  8  9]\n",
      " [10 11 12]]\n",
      "\n",
      "Matrix B:\n",
      "[[ 1  2  3  4  5]\n",
      " [ 6  7  8  9 10]\n",
      " [11 12 13 14 15]]\n",
      "\n",
      "Matrix AxB:\n",
      "[[ 46.  52.  58.  64.  70.]\n",
      " [100. 115. 130. 145. 160.]\n",
      " [154. 178. 202. 226. 250.]\n",
      " [208. 241. 274. 307. 340.]]\n",
      "\n",
      "Matrix AxB (numpy):\n",
      "[[ 46  52  58  64  70]\n",
      " [100 115 130 145 160]\n",
      " [154 178 202 226 250]\n",
      " [208 241 274 307 340]]\n",
      "\n",
      "Test Passed!\n"
     ]
    }
   ],
   "source": [
    "test_multiplication(multiply_classic)\n"
   ]
  },
  {
   "cell_type": "code",
   "execution_count": null,
   "metadata": {},
   "outputs": [],
   "source": []
  }
 ],
 "metadata": {
  "kernelspec": {
   "display_name": "Python 3",
   "language": "python",
   "name": "python3"
  },
  "language_info": {
   "codemirror_mode": {
    "name": "ipython",
    "version": 3
   },
   "file_extension": ".py",
   "mimetype": "text/x-python",
   "name": "python",
   "nbconvert_exporter": "python",
   "pygments_lexer": "ipython3",
   "version": "3.10.4"
  },
  "orig_nbformat": 4
 },
 "nbformat": 4,
 "nbformat_minor": 2
}
